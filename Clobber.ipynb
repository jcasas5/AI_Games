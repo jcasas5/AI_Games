{
 "cells": [
  {
   "cell_type": "markdown",
   "metadata": {
    "id": "SMOeYqKQEWAh"
   },
   "source": [
    "Please remember to update the token. For multiplayer to work, each player needs a different token. Please feel free to use multiple tokens in the same group."
   ]
  },
  {
   "cell_type": "code",
   "execution_count": 1,
   "metadata": {
    "id": "jMHiHG2lEUJo"
   },
   "outputs": [],
   "source": [
    "#Update your token\n",
    "STUDENT_TOKEN = 'Joaquin Casasus'"
   ]
  },
  {
   "cell_type": "markdown",
   "metadata": {
    "id": "Kv-G27nSEQ2f"
   },
   "source": [
    "There should be no need to change the code below."
   ]
  },
  {
   "cell_type": "code",
   "execution_count": 2,
   "metadata": {
    "id": "z9Bf9x8JNee2"
   },
   "outputs": [
    {
     "name": "stderr",
     "output_type": "stream",
     "text": [
      "/opt/anaconda3/lib/python3.8/site-packages/requests/__init__.py:89: RequestsDependencyWarning: urllib3 (1.26.12) or chardet (3.0.4) doesn't match a supported version!\n",
      "  warnings.warn(\"urllib3 ({}) or chardet ({}) doesn't match a supported \"\n"
     ]
    }
   ],
   "source": [
    "## ignore this code, just used for submission\n",
    "import requests\n",
    "import pprint\n",
    "import json\n",
    "import random\n",
    "import time\n",
    "from copy import copy, deepcopy\n",
    "\n",
    "class Game:\n",
    "  def __init__(self, state, status, player):\n",
    "    self.state = state\n",
    "    self.status = status\n",
    "    self.player = player\n",
    "\n",
    "  def is_waiting(self):\n",
    "    return self.status == 'waiting'\n",
    "\n",
    "  def is_end(self):\n",
    "    return self.status == 'complete'\n",
    "  \n",
    "  def get_board(self):\n",
    "    return json.loads(self.state)\n",
    "\n",
    "  def get_winner(self):\n",
    "    return None\n",
    "\n",
    "  def actions(self):\n",
    "    return []\n",
    "\n",
    "  def print(self):\n",
    "    print(self.state)\n",
    "\n",
    "def new_game(game_type, multi_player = False):\n",
    "  for _ in range(10):\n",
    "    r = requests.get('https://emarchiori.eu.pythonanywhere.com/new-game?TOKEN=%s&game-type=%s&multi-player=%s' % (STUDENT_TOKEN, game_type, 'True' if multi_player else 'False'))\n",
    "    if r.status_code == 200:\n",
    "      return r.json()['game-id']\n",
    "    print(r.content)\n",
    "\n",
    "def join_game(game_type, game_id):\n",
    "  for _ in range(10):\n",
    "    r = requests.get('https://emarchiori.eu.pythonanywhere.com/join-game?TOKEN=%s&game-type=%s&game-id=%s' % (STUDENT_TOKEN, game_type, game_id))\n",
    "    if r.status_code == 200:\n",
    "      return r.json()['player']\n",
    "    print(r.content)\n",
    "\n",
    "def game_state(game_type, game_id, GameClass):\n",
    "  for _ in range(10):\n",
    "    r = requests.get('https://emarchiori.eu.pythonanywhere.com/game-state?TOKEN=%s&game-type=%s&game-id=%s' % (STUDENT_TOKEN, game_type, game_id))\n",
    "    if r.status_code == 200:\n",
    "      return GameClass(r.json()['state'], r.json()['status'], r.json()['player'])\n",
    "    print(r.content)\n",
    "\n",
    "def update_game(game_type, game_id, player, move):\n",
    "  for _ in range(10):\n",
    "    r = requests.get('https://emarchiori.eu.pythonanywhere.com/update-game?TOKEN=%s&game-type=%s&game-id=%s&player=%s&move=%s' % (STUDENT_TOKEN, game_type, game_id, player, move))\n",
    "    if r.status_code == 200:\n",
    "      return r.content\n",
    "    print(r.content)\n",
    "\n",
    "def game_loop(solver, GameClass, game_type, multi_player = False, id = None):\n",
    "  while id == None:\n",
    "    print('Creating new game...')\n",
    "    id = new_game(game_type, multi_player)\n",
    "\n",
    "  print('Joining game with id: %s' % id)\n",
    "  player = join_game(game_type, id)\n",
    "\n",
    "  print('Playing as %s' % player)\n",
    "\n",
    "  game = game_state(game_type, id, GameClass)\n",
    "  print('Waiting for the other player to join...')\n",
    "  while game.is_waiting():\n",
    "    time.sleep(10)\n",
    "    game = game_state(game_type, id, GameClass)\n",
    "\n",
    "  while True:\n",
    "    game = game_state(game_type, id, GameClass)\n",
    "    game.print_game()\n",
    "    if game.is_end():\n",
    "      if game.player == '-':\n",
    "        print('Server says there is a draw')\n",
    "      else:\n",
    "        print('Server says your agent ' + ('WON' if game.player == player else 'LOST'))\n",
    "      return\n",
    "    if game.player == player:\n",
    "      print('Making next move...')\n",
    "      move = solver(game)\n",
    "      print(move)\n",
    "      update_result = update_game(game_type, id, player, json.dumps(move))\n",
    "      print(update_result)\n",
    "    else:\n",
    "      time.sleep(2)"
   ]
  },
  {
   "cell_type": "markdown",
   "metadata": {
    "id": "bkmvv9xnEfix"
   },
   "source": [
    "There is almost certainly no need to change this code, but if you must you can."
   ]
  },
  {
   "cell_type": "code",
   "execution_count": 3,
   "metadata": {
    "id": "r_zr2XPCyKyl"
   },
   "outputs": [],
   "source": [
    "from functools import reduce\n",
    "from copy import copy, deepcopy\n",
    "import json\n",
    "import random\n",
    "\n",
    "class Clobber(Game):\n",
    "  def __init__(self, state, status, player):\n",
    "    Game.__init__(self, state, status, player)\n",
    "\n",
    "  def actions(self):\n",
    "    return [] # this should return the possible actions\n",
    "\n",
    "  def get_winner(self):\n",
    "    return '.' # this should return the actual winner\n",
    "\n",
    "  def other_player(self):\n",
    "    if self.player == 'O': return 'X'\n",
    "    if self.player == 'X': return 'O'\n",
    "\n",
    "  def print_game(self):\n",
    "    for row in self.get_board():\n",
    "      print(row)\n"
   ]
  },
  {
   "cell_type": "markdown",
   "metadata": {
    "id": "BlaDsHFtEkme"
   },
   "source": [
    "Instead of changing this code for a random solver, write new code that also returns the next move. For example, create a new \"amazing_solver\".\n",
    "\n",
    "Solvers need to return a list or tuple of 3 elements: row, col and dir. Dir can be 'R', 'L', 'U', 'D'"
   ]
  },
  {
   "cell_type": "code",
   "execution_count": 4,
   "metadata": {
    "id": "ZeCaSFQtGw3f"
   },
   "outputs": [],
   "source": [
    "def random_solver(game):\n",
    "  board = game.get_board()\n",
    "  player = game.player\n",
    "  other_player = game.other_player()\n",
    "  opts = []\n",
    "  for row in range(len(board)):\n",
    "    for col in range(len(board[row])):\n",
    "      if board[row][col] == player:\n",
    "        if row + 1 < len(board) and board[row + 1][col] == other_player:\n",
    "          opts.append((row, col, 'D'))\n",
    "        if col + 1 < len(board[row]) and board[row][col + 1] == other_player:\n",
    "          opts.append((row, col, 'R'))\n",
    "        if row - 1 >= 0 and board[row - 1][col] == other_player:\n",
    "          opts.append((row, col, 'U'))\n",
    "        if col - 1 >= 0 and board[row][col - 1] == other_player:\n",
    "          opts.append((row, col, 'L'))\n",
    "  return opts[random.randint(0, len(opts) - 1)]"
   ]
  },
  {
   "cell_type": "markdown",
   "metadata": {
    "id": "F30IkgA6Evc0"
   },
   "source": [
    "This code is the one that starts the game. In different games you will need to change the class (Clobber is the one for clobber game).\n",
    "\n",
    "The 'multi_player' variable can be True or False. If you set multi_palyer to True, you will need to provide a game_id against which to play or if using None a new game will be created (which another player can join)."
   ]
  },
  {
   "cell_type": "code",
   "execution_count": 5,
   "metadata": {
    "id": "9bt3yI94Pm5q"
   },
   "outputs": [],
   "source": [
    "from queue import PriorityQueue\n",
    "import math\n",
    "import numpy as np\n",
    "from copy import copy, deepcopy\n",
    "\n",
    "class Node():\n",
    "  def __init__(self, state, game, parent = None):\n",
    "    self.state = state\n",
    "    self.initial_player = game.player\n",
    "    self.player = game.player\n",
    "    self.other_player = game.other_player()\n",
    "    #self.turn = True\n",
    "    self.parent = parent\n",
    "    self.children = []\n",
    "    self.n = 0\n",
    "    #self.n_parent = self.parent.n\n",
    "    self.wins = 0\n",
    "    self.loses = 0\n",
    "    self.untried_actions = self.legal_moves()\n",
    "    self.actions_done=[]\n",
    "    self.game = game\n",
    "    return\n",
    "\n",
    "\n",
    "  def legal_moves(self): # Returns a list with all the possible moves from a node\n",
    "    board = self.state\n",
    "    #turn = self.turn\n",
    "    player = self.player\n",
    "    other_player = self.other_player\n",
    "\n",
    "    opts = []\n",
    "    for row in range(len(board)):\n",
    "      for col in range(len(board[row])):\n",
    "        if board[row][col] == player:\n",
    "          if row + 1 < len(board) and board[row + 1][col] == other_player:\n",
    "            opts.append((row, col, 'D'))\n",
    "          if col + 1 < len(board[row]) and board[row][col + 1] == other_player:\n",
    "            opts.append((row, col, 'R'))\n",
    "          if row - 1 >= 0 and board[row - 1][col] == other_player:\n",
    "            opts.append((row, col, 'U'))\n",
    "          if col - 1 >= 0 and board[row][col - 1] == other_player:\n",
    "            opts.append((row, col, 'L'))\n",
    "    return opts\n",
    "\n",
    "\n",
    "  def calculate_wins(self): # Calculates the difference between wins and loses in a path.\n",
    "    wins = self.wins\n",
    "    loses = self.loses\n",
    "    return wins - loses\n",
    "\n",
    "\n",
    "  def expand(self): # return child node from move (state)\n",
    "    action = self.untried_actions.pop()\n",
    "    self.actions_done.append(deepcopy(action))\n",
    "    child_state = self.move(action)\n",
    "    child_node = Node(child_state, self.game, parent=self)\n",
    "    child_node.player = self.other_player\n",
    "    child_node.other_player = self.player\n",
    "    \n",
    "    self.children.append(child_node)\n",
    "\n",
    "    return child_node\n",
    "\n",
    "\n",
    "  def move(self, action): # Takes a move from \"legal_moves\" and updates the state with the move.\n",
    "    player = self.player\n",
    "    other_player = self.other_player\n",
    "\n",
    "    new_state = deepcopy(self.state)\n",
    "    child_node = Node(new_state, self.game, parent=self)\n",
    "    board = child_node.state\n",
    "    row = action[0]\n",
    "    col = action[1]\n",
    "    dir = action[2]\n",
    "\n",
    "    if dir == 'D':\n",
    "      board[row][col] = '.'\n",
    "      board[row + 1][col] = player\n",
    "\n",
    "    elif dir == 'R':\n",
    "      board[row][col] = '.'\n",
    "      board[row][col + 1] = player\n",
    "\n",
    "    elif dir == 'U':\n",
    "      board[row][col] = '.'\n",
    "      board[row - 1][col] = player\n",
    "\n",
    "    elif dir == 'L':\n",
    "      board[row][col] = '.'\n",
    "      board[row][col - 1] = player    \n",
    "\n",
    "    return board\n",
    "\n",
    "\n",
    "  def is_terminal_node(self): # Checks if a node is terminal\n",
    "    return len(self.legal_moves()) == 0\n",
    "\n",
    "\n",
    "  def rollout(self): # Loop for simulation.\n",
    "  # Chosing a random action, creates states with the action, looking for new actions to do over the updated states until it reaches a terminl node.\n",
    "  # Then returning 1 for a win and 0 for a lost.\n",
    "\n",
    "    current_rollout_state = deepcopy(self.state)\n",
    "\n",
    "    currrent_rollout_player = self.player\n",
    "    current_rollout_other_player = self.other_player\n",
    "    opts = self.legal_moves()\n",
    "\n",
    "    while len(opts) > 0:\n",
    "      action = opts[np.random.randint(len(opts))]\n",
    "      row = action[0]\n",
    "      col = action[1]\n",
    "      dir = action[2]\n",
    "\n",
    "      if dir == 'D':\n",
    "        current_rollout_state[row][col] = '.'\n",
    "        current_rollout_state[row + 1][col] = currrent_rollout_player\n",
    "\n",
    "      elif dir == 'R':\n",
    "        current_rollout_state[row][col] = '.'\n",
    "        current_rollout_state[row][col + 1] = currrent_rollout_player\n",
    "\n",
    "      elif dir == 'U':\n",
    "        current_rollout_state[row][col] = '.'\n",
    "        current_rollout_state[row - 1][col] = currrent_rollout_player\n",
    "\n",
    "      elif dir == 'L':\n",
    "        current_rollout_state[row][col] = '.'\n",
    "        current_rollout_state[row][col - 1] = currrent_rollout_player    \n",
    "\n",
    "      new_currrent_rollout_player = current_rollout_other_player\n",
    "      new_current_rollout_other_player = currrent_rollout_player\n",
    "\n",
    "      currrent_rollout_player = new_currrent_rollout_player\n",
    "      current_rollout_other_player = new_current_rollout_other_player\n",
    "\n",
    "      opts = []\n",
    "      for row in range(len(current_rollout_state)):\n",
    "        for col in range(len(current_rollout_state[row])):\n",
    "          if current_rollout_state[row][col] == currrent_rollout_player:\n",
    "            if row + 1 < len(current_rollout_state) and current_rollout_state[row + 1][col] == current_rollout_other_player:\n",
    "              opts.append((row, col, 'D'))\n",
    "            if col + 1 < len(current_rollout_state[row]) and current_rollout_state[row][col + 1] == current_rollout_other_player:\n",
    "              opts.append((row, col, 'R'))\n",
    "            if row - 1 >= 0 and current_rollout_state[row - 1][col] == current_rollout_other_player:\n",
    "              opts.append((row, col, 'U'))\n",
    "            if col - 1 >= 0 and current_rollout_state[row][col - 1] == current_rollout_other_player:\n",
    "              opts.append((row, col, 'L'))\n",
    "\n",
    "    if currrent_rollout_player == self.initial_player:\n",
    "      return 0\n",
    "    \n",
    "    else:\n",
    "      return 1\n",
    "\n",
    "\n",
    "  def backpropagate(self, result): # Goes back from the leaf node to the parent node updating the stats (wins, loses and number of simulations).\n",
    "  # It goes up until there is not a parent.\n",
    "    self.n += 1.\n",
    "    if result == 1:\n",
    "      self.wins += 1.\n",
    "    else:\n",
    "      self.loses += 1.\n",
    "\n",
    "    if self.parent:\n",
    "        self.parent.backpropagate(result)\n",
    "\n",
    "\n",
    "  def is_fully_expanded(self): # If a node has been expanded for all its possible moves. Returns true or false.\n",
    "    return len(self.untried_actions) == 0\n",
    "\n",
    "\n",
    "  def best_child(self): # UCT formula to choose the best child (a node) from parent node\n",
    "    c_param = 1.414213\n",
    "    choices_weights = [(c.calculate_wins() / c.n) + c_param * np.sqrt((2 * np.log(self.n) / c.n)) for c in self.children]\n",
    "    return self.children[np.argmax(choices_weights)]\n",
    "\n",
    "  def best_move(self): # UCT formula to choose the best move from parent node\n",
    "    c_param = 1.414213\n",
    "    choices_weights = [(c.calculate_wins() / c.n) + c_param * np.sqrt((2 * np.log(self.n) / c.n)) for c in self.children]\n",
    "    return [np.argmax(choices_weights)]\n",
    "\n",
    "  def tree_policy(self): # Policy to loop through the tree.\n",
    "    current_node = self\n",
    "\n",
    "    while not current_node.is_terminal_node(): # While current node is not terminal node\n",
    "      if not current_node.is_fully_expanded(): # If current node is not fully expanded, then expand the node and return one of its children\n",
    "          return current_node.expand()\n",
    "      else: # If it is expanded, then the current node is the child with the highest UCT.\n",
    "          current_node = current_node.best_child()\n",
    "    return current_node # If it is a terminal node, return current node.\n",
    "\n",
    "\n",
    "  def monte_carlo(self): # Main function that decides the best child node from received action (node).\n",
    "    simulation_no = 50000 #Set number of simulations \n",
    "\t\n",
    "    for i in range(simulation_no): # For number of simulations\n",
    "        v = self.tree_policy() # This is used to expand the node\n",
    "        reward = v.rollout() # Make a simulation\n",
    "        v.backpropagate(reward) # Backpropagate for current simulation\n",
    "    return self.actions_done[self.best_move()[0]] # Return the best move (taking into account the best child node)"
   ]
  },
  {
   "cell_type": "code",
   "execution_count": 6,
   "metadata": {
    "id": "9QNd41iIrK1O"
   },
   "outputs": [],
   "source": [
    "def amazing_solver(game): # Algorithm to return move\n",
    "  state = game.get_board() # Get state (board)\n",
    "  pepe = Node(state, game, parent = None) # Create object for that state\n",
    "  return pepe.monte_carlo() # Return best move"
   ]
  },
  {
   "cell_type": "code",
   "execution_count": 11,
   "metadata": {
    "colab": {
     "base_uri": "https://localhost:8080/"
    },
    "id": "HbEE9dFYG_Mw",
    "outputId": "0122ba85-4a16-4754-b1a6-baa07740c6bb"
   },
   "outputs": [
    {
     "name": "stdout",
     "output_type": "stream",
     "text": [
      "Joining game with id: 9912\n",
      "Playing as X\n",
      "Waiting for the other player to join...\n",
      "['X', 'O', 'X', 'O', 'X']\n",
      "['O', 'X', 'O', 'X', 'O']\n",
      "['X', 'O', 'X', 'O', 'X']\n",
      "['O', 'X', 'O', 'X', 'O']\n",
      "['X', 'O', 'X', 'O', 'X']\n",
      "['O', 'X', 'O', 'X', 'O']\n",
      "Making next move...\n"
     ]
    },
    {
     "ename": "KeyboardInterrupt",
     "evalue": "",
     "output_type": "error",
     "traceback": [
      "\u001b[0;31m---------------------------------------------------------------------------\u001b[0m",
      "\u001b[0;31mKeyboardInterrupt\u001b[0m                         Traceback (most recent call last)",
      "\u001b[0;32m<ipython-input-11-0a9450961558>\u001b[0m in \u001b[0;36m<module>\u001b[0;34m\u001b[0m\n\u001b[0;32m----> 1\u001b[0;31m \u001b[0mgame_loop\u001b[0m\u001b[0;34m(\u001b[0m\u001b[0mamazing_solver\u001b[0m\u001b[0;34m,\u001b[0m \u001b[0mClobber\u001b[0m\u001b[0;34m,\u001b[0m \u001b[0;34m'clobber'\u001b[0m\u001b[0;34m,\u001b[0m \u001b[0mmulti_player\u001b[0m\u001b[0;34m=\u001b[0m\u001b[0;32mTrue\u001b[0m\u001b[0;34m,\u001b[0m \u001b[0mid\u001b[0m\u001b[0;34m=\u001b[0m\u001b[0;36m9912\u001b[0m\u001b[0;34m)\u001b[0m\u001b[0;34m\u001b[0m\u001b[0;34m\u001b[0m\u001b[0m\n\u001b[0m",
      "\u001b[0;32m<ipython-input-2-62e2e5d239de>\u001b[0m in \u001b[0;36mgame_loop\u001b[0;34m(solver, GameClass, game_type, multi_player, id)\u001b[0m\n\u001b[1;32m     86\u001b[0m     \u001b[0;32mif\u001b[0m \u001b[0mgame\u001b[0m\u001b[0;34m.\u001b[0m\u001b[0mplayer\u001b[0m \u001b[0;34m==\u001b[0m \u001b[0mplayer\u001b[0m\u001b[0;34m:\u001b[0m\u001b[0;34m\u001b[0m\u001b[0;34m\u001b[0m\u001b[0m\n\u001b[1;32m     87\u001b[0m       \u001b[0mprint\u001b[0m\u001b[0;34m(\u001b[0m\u001b[0;34m'Making next move...'\u001b[0m\u001b[0;34m)\u001b[0m\u001b[0;34m\u001b[0m\u001b[0;34m\u001b[0m\u001b[0m\n\u001b[0;32m---> 88\u001b[0;31m       \u001b[0mmove\u001b[0m \u001b[0;34m=\u001b[0m \u001b[0msolver\u001b[0m\u001b[0;34m(\u001b[0m\u001b[0mgame\u001b[0m\u001b[0;34m)\u001b[0m\u001b[0;34m\u001b[0m\u001b[0;34m\u001b[0m\u001b[0m\n\u001b[0m\u001b[1;32m     89\u001b[0m       \u001b[0mprint\u001b[0m\u001b[0;34m(\u001b[0m\u001b[0mmove\u001b[0m\u001b[0;34m)\u001b[0m\u001b[0;34m\u001b[0m\u001b[0;34m\u001b[0m\u001b[0m\n\u001b[1;32m     90\u001b[0m       \u001b[0mupdate_result\u001b[0m \u001b[0;34m=\u001b[0m \u001b[0mupdate_game\u001b[0m\u001b[0;34m(\u001b[0m\u001b[0mgame_type\u001b[0m\u001b[0;34m,\u001b[0m \u001b[0mid\u001b[0m\u001b[0;34m,\u001b[0m \u001b[0mplayer\u001b[0m\u001b[0;34m,\u001b[0m \u001b[0mjson\u001b[0m\u001b[0;34m.\u001b[0m\u001b[0mdumps\u001b[0m\u001b[0;34m(\u001b[0m\u001b[0mmove\u001b[0m\u001b[0;34m)\u001b[0m\u001b[0;34m)\u001b[0m\u001b[0;34m\u001b[0m\u001b[0;34m\u001b[0m\u001b[0m\n",
      "\u001b[0;32m<ipython-input-6-8aff45c1b397>\u001b[0m in \u001b[0;36mamazing_solver\u001b[0;34m(game)\u001b[0m\n\u001b[1;32m      2\u001b[0m   \u001b[0mstate\u001b[0m \u001b[0;34m=\u001b[0m \u001b[0mgame\u001b[0m\u001b[0;34m.\u001b[0m\u001b[0mget_board\u001b[0m\u001b[0;34m(\u001b[0m\u001b[0;34m)\u001b[0m \u001b[0;31m# Get state (board)\u001b[0m\u001b[0;34m\u001b[0m\u001b[0;34m\u001b[0m\u001b[0m\n\u001b[1;32m      3\u001b[0m   \u001b[0mpepe\u001b[0m \u001b[0;34m=\u001b[0m \u001b[0mNode\u001b[0m\u001b[0;34m(\u001b[0m\u001b[0mstate\u001b[0m\u001b[0;34m,\u001b[0m \u001b[0mgame\u001b[0m\u001b[0;34m,\u001b[0m \u001b[0mparent\u001b[0m \u001b[0;34m=\u001b[0m \u001b[0;32mNone\u001b[0m\u001b[0;34m)\u001b[0m \u001b[0;31m# Create object for that state\u001b[0m\u001b[0;34m\u001b[0m\u001b[0;34m\u001b[0m\u001b[0m\n\u001b[0;32m----> 4\u001b[0;31m   \u001b[0;32mreturn\u001b[0m \u001b[0mpepe\u001b[0m\u001b[0;34m.\u001b[0m\u001b[0mmonte_carlo\u001b[0m\u001b[0;34m(\u001b[0m\u001b[0;34m)\u001b[0m \u001b[0;31m# Return best move\u001b[0m\u001b[0;34m\u001b[0m\u001b[0;34m\u001b[0m\u001b[0m\n\u001b[0m",
      "\u001b[0;32m<ipython-input-5-e7a97710c921>\u001b[0m in \u001b[0;36mmonte_carlo\u001b[0;34m(self)\u001b[0m\n\u001b[1;32m    196\u001b[0m \u001b[0;34m\u001b[0m\u001b[0m\n\u001b[1;32m    197\u001b[0m     \u001b[0;32mfor\u001b[0m \u001b[0mi\u001b[0m \u001b[0;32min\u001b[0m \u001b[0mrange\u001b[0m\u001b[0;34m(\u001b[0m\u001b[0msimulation_no\u001b[0m\u001b[0;34m)\u001b[0m\u001b[0;34m:\u001b[0m \u001b[0;31m# For number of simulations\u001b[0m\u001b[0;34m\u001b[0m\u001b[0;34m\u001b[0m\u001b[0m\n\u001b[0;32m--> 198\u001b[0;31m         \u001b[0mv\u001b[0m \u001b[0;34m=\u001b[0m \u001b[0mself\u001b[0m\u001b[0;34m.\u001b[0m\u001b[0mtree_policy\u001b[0m\u001b[0;34m(\u001b[0m\u001b[0;34m)\u001b[0m \u001b[0;31m# This is used to expand the node\u001b[0m\u001b[0;34m\u001b[0m\u001b[0;34m\u001b[0m\u001b[0m\n\u001b[0m\u001b[1;32m    199\u001b[0m         \u001b[0mreward\u001b[0m \u001b[0;34m=\u001b[0m \u001b[0mv\u001b[0m\u001b[0;34m.\u001b[0m\u001b[0mrollout\u001b[0m\u001b[0;34m(\u001b[0m\u001b[0;34m)\u001b[0m \u001b[0;31m# Make a simulation\u001b[0m\u001b[0;34m\u001b[0m\u001b[0;34m\u001b[0m\u001b[0m\n\u001b[1;32m    200\u001b[0m         \u001b[0mv\u001b[0m\u001b[0;34m.\u001b[0m\u001b[0mbackpropagate\u001b[0m\u001b[0;34m(\u001b[0m\u001b[0mreward\u001b[0m\u001b[0;34m)\u001b[0m \u001b[0;31m# Backpropagate for current simulation\u001b[0m\u001b[0;34m\u001b[0m\u001b[0;34m\u001b[0m\u001b[0m\n",
      "\u001b[0;32m<ipython-input-5-e7a97710c921>\u001b[0m in \u001b[0;36mtree_policy\u001b[0;34m(self)\u001b[0m\n\u001b[1;32m    184\u001b[0m     \u001b[0mcurrent_node\u001b[0m \u001b[0;34m=\u001b[0m \u001b[0mself\u001b[0m\u001b[0;34m\u001b[0m\u001b[0;34m\u001b[0m\u001b[0m\n\u001b[1;32m    185\u001b[0m \u001b[0;34m\u001b[0m\u001b[0m\n\u001b[0;32m--> 186\u001b[0;31m     \u001b[0;32mwhile\u001b[0m \u001b[0;32mnot\u001b[0m \u001b[0mcurrent_node\u001b[0m\u001b[0;34m.\u001b[0m\u001b[0mis_terminal_node\u001b[0m\u001b[0;34m(\u001b[0m\u001b[0;34m)\u001b[0m\u001b[0;34m:\u001b[0m \u001b[0;31m# While current node is not terminal node\u001b[0m\u001b[0;34m\u001b[0m\u001b[0;34m\u001b[0m\u001b[0m\n\u001b[0m\u001b[1;32m    187\u001b[0m       \u001b[0;32mif\u001b[0m \u001b[0;32mnot\u001b[0m \u001b[0mcurrent_node\u001b[0m\u001b[0;34m.\u001b[0m\u001b[0mis_fully_expanded\u001b[0m\u001b[0;34m(\u001b[0m\u001b[0;34m)\u001b[0m\u001b[0;34m:\u001b[0m \u001b[0;31m# If current node is not fully expanded, then expand the node and return one of its children\u001b[0m\u001b[0;34m\u001b[0m\u001b[0;34m\u001b[0m\u001b[0m\n\u001b[1;32m    188\u001b[0m           \u001b[0;32mreturn\u001b[0m \u001b[0mcurrent_node\u001b[0m\u001b[0;34m.\u001b[0m\u001b[0mexpand\u001b[0m\u001b[0;34m(\u001b[0m\u001b[0;34m)\u001b[0m\u001b[0;34m\u001b[0m\u001b[0;34m\u001b[0m\u001b[0m\n",
      "\u001b[0;32m<ipython-input-5-e7a97710c921>\u001b[0m in \u001b[0;36mis_terminal_node\u001b[0;34m(self)\u001b[0m\n\u001b[1;32m     94\u001b[0m \u001b[0;34m\u001b[0m\u001b[0m\n\u001b[1;32m     95\u001b[0m   \u001b[0;32mdef\u001b[0m \u001b[0mis_terminal_node\u001b[0m\u001b[0;34m(\u001b[0m\u001b[0mself\u001b[0m\u001b[0;34m)\u001b[0m\u001b[0;34m:\u001b[0m \u001b[0;31m# Checks if a node is terminal\u001b[0m\u001b[0;34m\u001b[0m\u001b[0;34m\u001b[0m\u001b[0m\n\u001b[0;32m---> 96\u001b[0;31m     \u001b[0;32mreturn\u001b[0m \u001b[0mlen\u001b[0m\u001b[0;34m(\u001b[0m\u001b[0mself\u001b[0m\u001b[0;34m.\u001b[0m\u001b[0mlegal_moves\u001b[0m\u001b[0;34m(\u001b[0m\u001b[0;34m)\u001b[0m\u001b[0;34m)\u001b[0m \u001b[0;34m==\u001b[0m \u001b[0;36m0\u001b[0m\u001b[0;34m\u001b[0m\u001b[0;34m\u001b[0m\u001b[0m\n\u001b[0m\u001b[1;32m     97\u001b[0m \u001b[0;34m\u001b[0m\u001b[0m\n\u001b[1;32m     98\u001b[0m \u001b[0;34m\u001b[0m\u001b[0m\n",
      "\u001b[0;32m<ipython-input-5-e7a97710c921>\u001b[0m in \u001b[0;36mlegal_moves\u001b[0;34m(self)\u001b[0m\n\u001b[1;32m     35\u001b[0m           \u001b[0;32mif\u001b[0m \u001b[0mrow\u001b[0m \u001b[0;34m+\u001b[0m \u001b[0;36m1\u001b[0m \u001b[0;34m<\u001b[0m \u001b[0mlen\u001b[0m\u001b[0;34m(\u001b[0m\u001b[0mboard\u001b[0m\u001b[0;34m)\u001b[0m \u001b[0;32mand\u001b[0m \u001b[0mboard\u001b[0m\u001b[0;34m[\u001b[0m\u001b[0mrow\u001b[0m \u001b[0;34m+\u001b[0m \u001b[0;36m1\u001b[0m\u001b[0;34m]\u001b[0m\u001b[0;34m[\u001b[0m\u001b[0mcol\u001b[0m\u001b[0;34m]\u001b[0m \u001b[0;34m==\u001b[0m \u001b[0mother_player\u001b[0m\u001b[0;34m:\u001b[0m\u001b[0;34m\u001b[0m\u001b[0;34m\u001b[0m\u001b[0m\n\u001b[1;32m     36\u001b[0m             \u001b[0mopts\u001b[0m\u001b[0;34m.\u001b[0m\u001b[0mappend\u001b[0m\u001b[0;34m(\u001b[0m\u001b[0;34m(\u001b[0m\u001b[0mrow\u001b[0m\u001b[0;34m,\u001b[0m \u001b[0mcol\u001b[0m\u001b[0;34m,\u001b[0m \u001b[0;34m'D'\u001b[0m\u001b[0;34m)\u001b[0m\u001b[0;34m)\u001b[0m\u001b[0;34m\u001b[0m\u001b[0;34m\u001b[0m\u001b[0m\n\u001b[0;32m---> 37\u001b[0;31m           \u001b[0;32mif\u001b[0m \u001b[0mcol\u001b[0m \u001b[0;34m+\u001b[0m \u001b[0;36m1\u001b[0m \u001b[0;34m<\u001b[0m \u001b[0mlen\u001b[0m\u001b[0;34m(\u001b[0m\u001b[0mboard\u001b[0m\u001b[0;34m[\u001b[0m\u001b[0mrow\u001b[0m\u001b[0;34m]\u001b[0m\u001b[0;34m)\u001b[0m \u001b[0;32mand\u001b[0m \u001b[0mboard\u001b[0m\u001b[0;34m[\u001b[0m\u001b[0mrow\u001b[0m\u001b[0;34m]\u001b[0m\u001b[0;34m[\u001b[0m\u001b[0mcol\u001b[0m \u001b[0;34m+\u001b[0m \u001b[0;36m1\u001b[0m\u001b[0;34m]\u001b[0m \u001b[0;34m==\u001b[0m \u001b[0mother_player\u001b[0m\u001b[0;34m:\u001b[0m\u001b[0;34m\u001b[0m\u001b[0;34m\u001b[0m\u001b[0m\n\u001b[0m\u001b[1;32m     38\u001b[0m             \u001b[0mopts\u001b[0m\u001b[0;34m.\u001b[0m\u001b[0mappend\u001b[0m\u001b[0;34m(\u001b[0m\u001b[0;34m(\u001b[0m\u001b[0mrow\u001b[0m\u001b[0;34m,\u001b[0m \u001b[0mcol\u001b[0m\u001b[0;34m,\u001b[0m \u001b[0;34m'R'\u001b[0m\u001b[0;34m)\u001b[0m\u001b[0;34m)\u001b[0m\u001b[0;34m\u001b[0m\u001b[0;34m\u001b[0m\u001b[0m\n\u001b[1;32m     39\u001b[0m           \u001b[0;32mif\u001b[0m \u001b[0mrow\u001b[0m \u001b[0;34m-\u001b[0m \u001b[0;36m1\u001b[0m \u001b[0;34m>=\u001b[0m \u001b[0;36m0\u001b[0m \u001b[0;32mand\u001b[0m \u001b[0mboard\u001b[0m\u001b[0;34m[\u001b[0m\u001b[0mrow\u001b[0m \u001b[0;34m-\u001b[0m \u001b[0;36m1\u001b[0m\u001b[0;34m]\u001b[0m\u001b[0;34m[\u001b[0m\u001b[0mcol\u001b[0m\u001b[0;34m]\u001b[0m \u001b[0;34m==\u001b[0m \u001b[0mother_player\u001b[0m\u001b[0;34m:\u001b[0m\u001b[0;34m\u001b[0m\u001b[0;34m\u001b[0m\u001b[0m\n",
      "\u001b[0;31mKeyboardInterrupt\u001b[0m: "
     ]
    }
   ],
   "source": [
    "game_loop(amazing_solver, Clobber, 'clobber', multi_player=True, id=9912)"
   ]
  },
  {
   "cell_type": "code",
   "execution_count": null,
   "metadata": {},
   "outputs": [],
   "source": []
  },
  {
   "cell_type": "code",
   "execution_count": null,
   "metadata": {},
   "outputs": [],
   "source": []
  }
 ],
 "metadata": {
  "colab": {
   "provenance": []
  },
  "kernelspec": {
   "display_name": "Python 3",
   "language": "python",
   "name": "python3"
  },
  "language_info": {
   "codemirror_mode": {
    "name": "ipython",
    "version": 3
   },
   "file_extension": ".py",
   "mimetype": "text/x-python",
   "name": "python",
   "nbconvert_exporter": "python",
   "pygments_lexer": "ipython3",
   "version": "3.8.5"
  }
 },
 "nbformat": 4,
 "nbformat_minor": 1
}
